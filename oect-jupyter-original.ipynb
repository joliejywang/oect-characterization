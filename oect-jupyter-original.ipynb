{
 "cells": [
  {
   "cell_type": "code",
   "execution_count": null,
   "id": "initial_id",
   "metadata": {
    "collapsed": true
   },
   "outputs": [],
   "source": [
    "# Load all of the relevant packages\n",
    "\n",
    "# For communicating with the Keysight SMU; Installation: pip install pyvisa\n",
    "import pyvisa\n",
    "\n",
    "# For keeping track of time\n",
    "import time\n",
    "\n",
    "\n",
    "# For maniputalting data; Installation: pip install numpy\n",
    "import numpy as np\n",
    "\n",
    "\n",
    "# For maniputalting data; Installation: pip install pandas\n",
    "import pandas as pd\n",
    "\n",
    "# Matplotlib for plotting\n",
    "import matplotlib as mpl\n",
    "import matplotlib.pyplot as plt\n",
    "from matplotlib import animation, rc, cm\n",
    "import matplotlib.colors as colors\n",
    "\n",
    "# SciPy for image processing; Installation: pip install scipy\n",
    "from scipy import ndimage\n",
    "from scipy import signal\n",
    "import scipy.signal\n",
    "import scipy.misc\n",
    "from scipy.interpolate import griddata\n",
    "from scipy.optimize import fmin_powell\n",
    "import scipy.ndimage as snd\n",
    "from scipy.fft import fft, ifft, fftfreq\n",
    "\n",
    "# tkinter for interactive path generation\n",
    "from tkinter import filedialog\n",
    "from tkinter import *\n",
    "\n",
    "import pickle\n"
   ]
  }
 ],
 "metadata": {
  "kernelspec": {
   "display_name": "Python 3",
   "language": "python",
   "name": "python3"
  },
  "language_info": {
   "codemirror_mode": {
    "name": "ipython",
    "version": 2
   },
   "file_extension": ".py",
   "mimetype": "text/x-python",
   "name": "python",
   "nbconvert_exporter": "python",
   "pygments_lexer": "ipython2",
   "version": "2.7.6"
  }
 },
 "nbformat": 4,
 "nbformat_minor": 5
}
